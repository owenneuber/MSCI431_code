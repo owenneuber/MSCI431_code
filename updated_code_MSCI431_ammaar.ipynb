{
 "cells": [
  {
   "cell_type": "code",
   "execution_count": 2,
   "metadata": {},
   "outputs": [],
   "source": [
    "import numpy as np"
   ]
  },
  {
   "cell_type": "code",
   "execution_count": 3,
   "metadata": {},
   "outputs": [],
   "source": [
    "# Data from the problem set For AHS 1 to 12\n",
    "improve_rate = np.array([0, 0.00032, 0.001134, 0.00311, 0.006721, 0.010747, 0.014862, 0.024625, 0.033571, 0.040201, 0.030801, 0.032320, 0.00032, 0.001134, 0.00311, 0.006721, 0.010747, 0.014862, 0.024625, 0.033571, 0.040201, 0.030801, 0.03232])\n",
    "deteriorate_rate = np.array([0.001013, 0.000961, 0.001473, 0.003199, 0.005537, 0.008135, 0.010858, 0.02387, 0.0313, 0.037877, 0.031978, 0])\n",
    "death_rate = np.array([0.000123, 0.000172, 0.000245, 0.000319, 0.000417, 0.000564, 0.00076, 0.001029, 0.001372, 0.001862, 0.00245, 0.003553])\n",
    "transplant_prob = np.array([0.0001, 0.0002, 0.0002, 0.0003, 0.0004, 0.0006, 0.0008, 0.0010, 0.0014, 0.0019, 0.0024, 0.0035])\n",
    "post_trans_days_all=np.array([3747,3623.25,3502.5,3380,3259.25,3137.5,3014,2898.25,2776.5,2661.25,2537,2417.25])"
   ]
  },
  {
   "cell_type": "code",
   "execution_count": 4,
   "metadata": {},
   "outputs": [],
   "source": [
    "#rate to Probabilities\n",
    "prob_improv_rate=1-np.exp(-improve_rate)\n",
    "prob_det_rate=1-np.exp(-deteriorate_rate)\n",
    "prob_death_rate=1-np.exp(-death_rate)"
   ]
  },
  {
   "cell_type": "code",
   "execution_count": 5,
   "metadata": {},
   "outputs": [],
   "source": [
    "#Probability Matrix \n",
    "def probability_matrix(threshold_policy,prob_improv_rate,prob_det_rate,prob_death_rate,transplant_prob):\n",
    "    P=np.zeros((14,14)) #probability matrix initialization\n",
    "\n",
    "    threshold_policy=5 #threshold Policy\n",
    "    P[13][13]=1\n",
    "    P[12][12]=1\n",
    "    for i in range(0,12): \n",
    "            P[i][i+1]=prob_det_rate[i]\n",
    "            P[i][12]=prob_death_rate[i]\n",
    "            P[i][i-1]=prob_improv_rate[i]\n",
    "            if i+1>=threshold_policy:\n",
    "                P[i][13]=transplant_prob[i]\n",
    "\n",
    "            P[i][i]=1-(P[i][i+1]+P[i][12]+P[i][i-1]+P[i][13])\n",
    "    return P"
   ]
  },
  {
   "cell_type": "code",
   "execution_count": 6,
   "metadata": {},
   "outputs": [],
   "source": [
    "#likelihood and pre-transplant expected days calculation\n",
    "def transient_analysis(P):\n",
    "    Q=P[0:12,0:12]\n",
    "    R=P[0:12,12:14]\n",
    "    I=np.identity(12)\n",
    "\n",
    "    inv=np.linalg.inv(I-Q)\n",
    "    ones = np.ones((12,1))\n",
    "    pre_trans_days=np.dot(inv,ones) #partb\n",
    "    likelihood=np.dot(inv,R) #partc\n",
    "    \n",
    "    return pre_trans_days, likelihood\n"
   ]
  },
  {
   "cell_type": "code",
   "execution_count": 7,
   "metadata": {},
   "outputs": [],
   "source": [
    "def total_expectation(threshold_policy,prob_improv_rate,prob_det_rate,prob_death_rate,transplant_prob,post_trans_days_all):\n",
    "\n",
    "    P=probability_matrix(threshold_policy,prob_improv_rate,prob_det_rate,prob_death_rate,transplant_prob)\n",
    "    pre_trans_days, likelihood=transient_analysis(P)\n",
    "    \n",
    "    #set up post_trans_days array\n",
    "    post_trans_days_threshold_range=post_trans_days_all[threshold_policy-1:12]\n",
    "    zeros=np.zeros(threshold_policy-1)\n",
    "    post_trans_days_threshold=np.append(zeros,post_trans_days_threshold_range)\n",
    "    post_trans_days_threshold=np.array([post_trans_days_threshold])\n",
    "\n",
    "    #total expectation \n",
    "    Total_expec=np.multiply(np.array([likelihood[:,1]]).T,post_trans_days_threshold.T)+pre_trans_days #PART D\n",
    "    return Total_expec"
   ]
  },
  {
   "cell_type": "code",
   "execution_count": 8,
   "metadata": {},
   "outputs": [
    {
     "data": {
      "text/plain": [
       "array([[4814.39747331],\n",
       "       [4395.62154874],\n",
       "       [3987.92127642],\n",
       "       [3645.31466661],\n",
       "       [3349.15377123],\n",
       "       [3059.25431756],\n",
       "       [2760.19616688],\n",
       "       [2444.33041775],\n",
       "       [2157.6753969 ],\n",
       "       [1889.05954139],\n",
       "       [1631.06439776],\n",
       "       [1410.76624299]])"
      ]
     },
     "execution_count": 8,
     "metadata": {},
     "output_type": "execute_result"
    }
   ],
   "source": [
    "#given a threshold policy of 5 or up\n",
    "x=total_expectation(1,prob_improv_rate,prob_det_rate,prob_death_rate,transplant_prob,post_trans_days_all)\n",
    "x "
   ]
  },
  {
   "cell_type": "code",
   "execution_count": 9,
   "metadata": {},
   "outputs": [
    {
     "data": {
      "text/plain": [
       "array([[4814.39747331, 4395.62154874, 3987.92127642, 3645.31466661,\n",
       "        3349.15377123, 3059.25431756, 2760.19616688, 2444.33041775,\n",
       "        2157.6753969 , 1889.05954139, 1631.06439776, 1410.76624299],\n",
       "       [4384.01523781, 4395.62154874, 3987.92127642, 3645.31466661,\n",
       "        3349.15377123, 3059.25431756, 2760.19616688, 2444.33041775,\n",
       "        2157.6753969 , 1889.05954139, 1631.06439776, 1410.76624299],\n",
       "       [4384.01523781, 3928.89902703, 3987.92127642, 3645.31466661,\n",
       "        3349.15377123, 3059.25431756, 2760.19616688, 2444.33041775,\n",
       "        2157.6753969 , 1889.05954139, 1631.06439776, 1410.76624299],\n",
       "       [4384.01523781, 3928.89902703, 3439.69279181, 3645.31466661,\n",
       "        3349.15377123, 3059.25431756, 2760.19616688, 2444.33041775,\n",
       "        2157.6753969 , 1889.05954139, 1631.06439776, 1410.76624299],\n",
       "       [4384.01523781, 3928.89902703, 3439.69279181, 2956.08904494,\n",
       "        3349.15377123, 3059.25431756, 2760.19616688, 2444.33041775,\n",
       "        2157.6753969 , 1889.05954139, 1631.06439776, 1410.76624299],\n",
       "       [4384.01523781, 3928.89902703, 3439.69279181, 2956.08904494,\n",
       "        2468.02277225, 3059.25431756, 2760.19616688, 2444.33041775,\n",
       "        2157.6753969 , 1889.05954139, 1631.06439776, 1410.76624299],\n",
       "       [4384.01523781, 3928.89902703, 3439.69279181, 2956.08904494,\n",
       "        2468.02277225, 2059.97181447, 2760.19616688, 2444.33041775,\n",
       "        2157.6753969 , 1889.05954139, 1631.06439776, 1410.76624299],\n",
       "       [4384.01523781, 3928.89902703, 3439.69279181, 2956.08904494,\n",
       "        2468.02277225, 2059.97181447, 1694.09135049, 2444.33041775,\n",
       "        2157.6753969 , 1889.05954139, 1631.06439776, 1410.76624299],\n",
       "       [4384.01523781, 3928.89902703, 3439.69279181, 2956.08904494,\n",
       "        2468.02277225, 2059.97181447, 1694.09135049, 1346.36268936,\n",
       "        2157.6753969 , 1889.05954139, 1631.06439776, 1410.76624299],\n",
       "       [4384.01523781, 3928.89902703, 3439.69279181, 2956.08904494,\n",
       "        2468.02277225, 2059.97181447, 1694.09135049, 1346.36268936,\n",
       "        1061.15951491, 1889.05954139, 1631.06439776, 1410.76624299],\n",
       "       [4384.01523781, 3928.89902703, 3439.69279181, 2956.08904494,\n",
       "        2468.02277225, 2059.97181447, 1694.09135049, 1346.36268936,\n",
       "        1061.15951491,  818.58171784, 1631.06439776, 1410.76624299],\n",
       "       [4384.01523781, 3928.89902703, 3439.69279181, 2956.08904494,\n",
       "        2468.02277225, 2059.97181447, 1694.09135049, 1346.36268936,\n",
       "        1061.15951491,  818.58171784,  617.3269189 , 1410.76624299],\n",
       "       [4384.01523781, 3928.89902703, 3439.69279181, 2956.08904494,\n",
       "        2468.02277225, 2059.97181447, 1694.09135049, 1346.36268936,\n",
       "        1061.15951491,  818.58171784,  617.3269189 ,  486.6660912 ]])"
      ]
     },
     "execution_count": 9,
     "metadata": {},
     "output_type": "execute_result"
    }
   ],
   "source": [
    "#given for all thresehold_policy\n",
    "x=[]\n",
    "y=[total_expectation(i,prob_improv_rate,prob_det_rate,prob_death_rate,transplant_prob,post_trans_days_all) for i in range(1,14)]\n",
    "x=np.stack(y,axis=0)\n",
    "x.reshape((13,12))\n"
   ]
  },
  {
   "cell_type": "code",
   "execution_count": null,
   "metadata": {},
   "outputs": [],
   "source": []
  }
 ],
 "metadata": {
  "kernelspec": {
   "display_name": "Python 3",
   "language": "python",
   "name": "python3"
  },
  "language_info": {
   "codemirror_mode": {
    "name": "ipython",
    "version": 3
   },
   "file_extension": ".py",
   "mimetype": "text/x-python",
   "name": "python",
   "nbconvert_exporter": "python",
   "pygments_lexer": "ipython3",
   "version": "3.7.4"
  }
 },
 "nbformat": 4,
 "nbformat_minor": 2
}
